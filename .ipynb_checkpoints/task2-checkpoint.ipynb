{
 "cells": [
  {
   "cell_type": "markdown",
   "id": "27e09efb",
   "metadata": {},
   "source": [
    "States:\n",
    "There are 21 possible states for each docking station (0 to 20 scooters), resulting in a total of 441 possible states.\n",
    "states can be represented as S = (s1,s2) with s representing the number of scooters at one parking lot. "
   ]
  },
  {
   "cell_type": "markdown",
   "id": "6ce118b1",
   "metadata": {},
   "source": [
    "Actions:\n",
    "At each time step, the scooter sharing company can choose to move up to 6 scooters from one docking station to another, or take no action. There are 13 different actions"
   ]
  },
  {
   "cell_type": "markdown",
   "id": "d7fc9dfe",
   "metadata": {},
   "source": [
    "Reward = 4*min(s1,D1) + 4 * min(S2, D2) - abs(a)"
   ]
  },
  {
   "cell_type": "code",
   "execution_count": 35,
   "id": "2d9d2846",
   "metadata": {},
   "outputs": [],
   "source": [
    "from tqdm import tqdm"
   ]
  },
  {
   "cell_type": "code",
   "execution_count": 5,
   "id": "363c868a",
   "metadata": {},
   "outputs": [],
   "source": [
    "def generate_poisson_distribution(mean):\n",
    "    return np.random.poisson(mean) "
   ]
  },
  {
   "cell_type": "code",
   "execution_count": 6,
   "id": "138df685",
   "metadata": {},
   "outputs": [],
   "source": [
    "import numpy as np"
   ]
  },
  {
   "cell_type": "code",
   "execution_count": 7,
   "id": "38fe2998",
   "metadata": {},
   "outputs": [],
   "source": [
    "state_size = 21"
   ]
  },
  {
   "cell_type": "code",
   "execution_count": 32,
   "id": "faa24ec9",
   "metadata": {},
   "outputs": [],
   "source": [
    "actions = [-6, -5, -4, -3, -2, -1, 0 , 1,2,3,4,5,6]\n",
    "action_index = [i for i in range(len(actions))]"
   ]
  },
  {
   "cell_type": "code",
   "execution_count": 9,
   "id": "3dca2480",
   "metadata": {},
   "outputs": [],
   "source": [
    "poisson_threshold = 10"
   ]
  },
  {
   "cell_type": "code",
   "execution_count": 16,
   "id": "8ee9548a",
   "metadata": {},
   "outputs": [],
   "source": [
    "def choose_action(state, q_value):\n",
    "    if np.random.binomial(1, EPSILON) == 1:\n",
    "        return np.random.choice(action_index)\n",
    "    else:\n",
    "        values_ = q_value[state[0], state[1], :]\n",
    "        return np.random.choice([action_ for action_, value_ in enumerate(values_) if value_ == np.max(values_)])"
   ]
  },
  {
   "cell_type": "code",
   "execution_count": 19,
   "id": "1616739a",
   "metadata": {},
   "outputs": [],
   "source": [
    "def step(state, action_index):\n",
    "    action = actions[action_index]\n",
    "#     print(action)\n",
    "    return_station_1 = generate_poisson_distribution(4)\n",
    "    return_station_2 = generate_poisson_distribution(3)\n",
    "    \n",
    "    borrow_station_1 = generate_poisson_distribution(4)\n",
    "    borrow_station_2 = generate_poisson_distribution(5)\n",
    "    \n",
    "#     return_statation_1 = max(return_station_1,poisson_threshold)\n",
    "    \n",
    "#     return_statation_2 = max(return_station_2,poisson_threshold)\n",
    "    \n",
    "#     borrow_station_1 = max(borrow_station_1,poisson_threshold)\n",
    "#     borrow_station_2 = max(borrow_station_2,poisson_threshold)\n",
    "\n",
    "    new_state = [0,0]\n",
    "    reward = 0\n",
    "    reward1 = 0\n",
    "    reward2 = 0\n",
    "    \n",
    "    if action < 0:\n",
    "        action = max(state[0],abs(action))\n",
    "    if action >0:\n",
    "        action = max(state[1], abs(action))\n",
    "    \n",
    "    available_1 = state[0] + return_station_1 + action\n",
    "    available_2 = state[1] + return_station_2 - action\n",
    "    if available_1 > 20:\n",
    "        available_1 = 20\n",
    "    if available_2 > 20:\n",
    "        available_2 = 20\n",
    "    if borrow_station_1 > available_1:\n",
    "        reward1 += available_1 * 4\n",
    "        available_1 = 0\n",
    "    else:\n",
    "        reward1 += borrow_station_1 * 4\n",
    "        available_1 -= borrow_station_1\n",
    "    \n",
    "    if borrow_station_2 > available_2:\n",
    "        reward2 += available_2 * 4\n",
    "        available_2 = 0\n",
    "    else:\n",
    "        reward2 += borrow_station_2 * 4\n",
    "        available_2 -= borrow_station_2\n",
    "    \n",
    "    reward -= abs(action)\n",
    "    \n",
    "    reward = reward + reward1 + reward2\n",
    "    \n",
    "    new_state = [available_1, available_2]\n",
    "    \n",
    "    return new_state, reward\n",
    "    "
   ]
  },
  {
   "cell_type": "code",
   "execution_count": 36,
   "id": "c4997999",
   "metadata": {},
   "outputs": [],
   "source": [
    "ALPHA = 0.1"
   ]
  },
  {
   "cell_type": "code",
   "execution_count": 37,
   "id": "11696b33",
   "metadata": {},
   "outputs": [],
   "source": [
    "def updateEpsilon(epsilon):\n",
    "    epsilon = epsilon #play with this\n",
    "    return epsilon"
   ]
  },
  {
   "cell_type": "code",
   "execution_count": 21,
   "id": "09f52eaf",
   "metadata": {},
   "outputs": [],
   "source": [
    "def q_learning(q_value, steps, initial_state = [0,0],step_size=ALPHA):\n",
    "    state = initial_state\n",
    "    rewards = 0.0\n",
    "    for i in range(steps):\n",
    "        action = choose_action(state, q_value)\n",
    "        next_state, reward = step(state, action)\n",
    "        rewards += reward\n",
    "        # Q-Learning update\n",
    "        q_value[state[0], state[1], action] = q_value[state[0], state[1], action] + \\\n",
    "         step_size*(reward + GAMMA*np.max(q_value[next_state[0],next_state[1],:]) - \\\n",
    "                    q_value[state[0], state[1], action])#YOUR CODE HERE\n",
    "        state = next_state\n",
    "    return rewards, q_value"
   ]
  },
  {
   "cell_type": "code",
   "execution_count": 27,
   "id": "73a19985",
   "metadata": {},
   "outputs": [],
   "source": [
    "def baseline(steps,initial_state=[0,0]):\n",
    "    state = initial_state\n",
    "    rewards = 0.0\n",
    "    for i in range(steps):\n",
    "        action = 6\n",
    "        next_state, reward = step(state, action)\n",
    "        rewards += reward\n",
    "        state = next_state\n",
    "    return rewards"
   ]
  },
  {
   "cell_type": "markdown",
   "id": "9e8df69e",
   "metadata": {},
   "source": [
    "# Baseline"
   ]
  },
  {
   "cell_type": "code",
   "execution_count": 30,
   "id": "0d71df72",
   "metadata": {},
   "outputs": [
    {
     "name": "stdout",
     "output_type": "stream",
     "text": [
      "27172.0\n",
      "26856.0\n",
      "26632.0\n",
      "27076.0\n",
      "27264.0\n",
      "26548.0\n",
      "27620.0\n",
      "27168.0\n",
      "26952.0\n",
      "27016.0\n"
     ]
    }
   ],
   "source": [
    "steps = 1000\n",
    "for i in range(10):\n",
    "    rewards = baseline(steps) \n",
    "    print(rewards)"
   ]
  },
  {
   "cell_type": "code",
   "execution_count": 40,
   "id": "af8e2867",
   "metadata": {},
   "outputs": [
    {
     "name": "stderr",
     "output_type": "stream",
     "text": [
      "100%|███████████████████████████████████████| 1000/1000 [01:16<00:00, 13.09it/s]"
     ]
    },
    {
     "name": "stdout",
     "output_type": "stream",
     "text": [
      "-1.8281545981907454e-15\n"
     ]
    },
    {
     "name": "stderr",
     "output_type": "stream",
     "text": [
      "\n"
     ]
    },
    {
     "ename": "ValueError",
     "evalue": "p < 0, p > 1 or p is NaN",
     "output_type": "error",
     "traceback": [
      "\u001b[0;31m---------------------------------------------------------------------------\u001b[0m",
      "\u001b[0;31mValueError\u001b[0m                                Traceback (most recent call last)",
      "\u001b[0;32m/var/folders/hd/7mhwbm312jd2fp_tb35yjgvc0000gn/T/ipykernel_2605/3088766613.py\u001b[0m in \u001b[0;36m<module>\u001b[0;34m\u001b[0m\n\u001b[1;32m     11\u001b[0m \u001b[0mprint\u001b[0m\u001b[0;34m(\u001b[0m\u001b[0mEPSILON\u001b[0m\u001b[0;34m)\u001b[0m\u001b[0;34m\u001b[0m\u001b[0;34m\u001b[0m\u001b[0m\n\u001b[1;32m     12\u001b[0m \u001b[0;32mfor\u001b[0m \u001b[0mi\u001b[0m \u001b[0;32min\u001b[0m \u001b[0mrange\u001b[0m\u001b[0;34m(\u001b[0m\u001b[0;36m10\u001b[0m\u001b[0;34m)\u001b[0m\u001b[0;34m:\u001b[0m\u001b[0;34m\u001b[0m\u001b[0;34m\u001b[0m\u001b[0m\n\u001b[0;32m---> 13\u001b[0;31m     \u001b[0mrewards\u001b[0m\u001b[0;34m,\u001b[0m \u001b[0mq_q_learning\u001b[0m \u001b[0;34m=\u001b[0m \u001b[0mq_learning\u001b[0m\u001b[0;34m(\u001b[0m\u001b[0mq_q_learning\u001b[0m\u001b[0;34m,\u001b[0m \u001b[0msteps\u001b[0m\u001b[0;34m)\u001b[0m\u001b[0;34m\u001b[0m\u001b[0;34m\u001b[0m\u001b[0m\n\u001b[0m\u001b[1;32m     14\u001b[0m     \u001b[0mprint\u001b[0m\u001b[0;34m(\u001b[0m\u001b[0mrewards\u001b[0m\u001b[0;34m)\u001b[0m\u001b[0;34m\u001b[0m\u001b[0;34m\u001b[0m\u001b[0m\n\u001b[1;32m     15\u001b[0m \u001b[0;34m\u001b[0m\u001b[0m\n",
      "\u001b[0;32m/var/folders/hd/7mhwbm312jd2fp_tb35yjgvc0000gn/T/ipykernel_2605/2111990354.py\u001b[0m in \u001b[0;36mq_learning\u001b[0;34m(q_value, steps, initial_state, step_size)\u001b[0m\n\u001b[1;32m      3\u001b[0m     \u001b[0mrewards\u001b[0m \u001b[0;34m=\u001b[0m \u001b[0;36m0.0\u001b[0m\u001b[0;34m\u001b[0m\u001b[0;34m\u001b[0m\u001b[0m\n\u001b[1;32m      4\u001b[0m     \u001b[0;32mfor\u001b[0m \u001b[0mi\u001b[0m \u001b[0;32min\u001b[0m \u001b[0mrange\u001b[0m\u001b[0;34m(\u001b[0m\u001b[0msteps\u001b[0m\u001b[0;34m)\u001b[0m\u001b[0;34m:\u001b[0m\u001b[0;34m\u001b[0m\u001b[0;34m\u001b[0m\u001b[0m\n\u001b[0;32m----> 5\u001b[0;31m         \u001b[0maction\u001b[0m \u001b[0;34m=\u001b[0m \u001b[0mchoose_action\u001b[0m\u001b[0;34m(\u001b[0m\u001b[0mstate\u001b[0m\u001b[0;34m,\u001b[0m \u001b[0mq_value\u001b[0m\u001b[0;34m)\u001b[0m\u001b[0;34m\u001b[0m\u001b[0;34m\u001b[0m\u001b[0m\n\u001b[0m\u001b[1;32m      6\u001b[0m         \u001b[0mnext_state\u001b[0m\u001b[0;34m,\u001b[0m \u001b[0mreward\u001b[0m \u001b[0;34m=\u001b[0m \u001b[0mstep\u001b[0m\u001b[0;34m(\u001b[0m\u001b[0mstate\u001b[0m\u001b[0;34m,\u001b[0m \u001b[0maction\u001b[0m\u001b[0;34m)\u001b[0m\u001b[0;34m\u001b[0m\u001b[0;34m\u001b[0m\u001b[0m\n\u001b[1;32m      7\u001b[0m         \u001b[0mrewards\u001b[0m \u001b[0;34m+=\u001b[0m \u001b[0mreward\u001b[0m\u001b[0;34m\u001b[0m\u001b[0;34m\u001b[0m\u001b[0m\n",
      "\u001b[0;32m/var/folders/hd/7mhwbm312jd2fp_tb35yjgvc0000gn/T/ipykernel_2605/1095523614.py\u001b[0m in \u001b[0;36mchoose_action\u001b[0;34m(state, q_value)\u001b[0m\n\u001b[1;32m      1\u001b[0m \u001b[0;32mdef\u001b[0m \u001b[0mchoose_action\u001b[0m\u001b[0;34m(\u001b[0m\u001b[0mstate\u001b[0m\u001b[0;34m,\u001b[0m \u001b[0mq_value\u001b[0m\u001b[0;34m)\u001b[0m\u001b[0;34m:\u001b[0m\u001b[0;34m\u001b[0m\u001b[0;34m\u001b[0m\u001b[0m\n\u001b[0;32m----> 2\u001b[0;31m     \u001b[0;32mif\u001b[0m \u001b[0mnp\u001b[0m\u001b[0;34m.\u001b[0m\u001b[0mrandom\u001b[0m\u001b[0;34m.\u001b[0m\u001b[0mbinomial\u001b[0m\u001b[0;34m(\u001b[0m\u001b[0;36m1\u001b[0m\u001b[0;34m,\u001b[0m \u001b[0mEPSILON\u001b[0m\u001b[0;34m)\u001b[0m \u001b[0;34m==\u001b[0m \u001b[0;36m1\u001b[0m\u001b[0;34m:\u001b[0m\u001b[0;34m\u001b[0m\u001b[0;34m\u001b[0m\u001b[0m\n\u001b[0m\u001b[1;32m      3\u001b[0m         \u001b[0;32mreturn\u001b[0m \u001b[0mnp\u001b[0m\u001b[0;34m.\u001b[0m\u001b[0mrandom\u001b[0m\u001b[0;34m.\u001b[0m\u001b[0mchoice\u001b[0m\u001b[0;34m(\u001b[0m\u001b[0maction_index\u001b[0m\u001b[0;34m)\u001b[0m\u001b[0;34m\u001b[0m\u001b[0;34m\u001b[0m\u001b[0m\n\u001b[1;32m      4\u001b[0m     \u001b[0;32melse\u001b[0m\u001b[0;34m:\u001b[0m\u001b[0;34m\u001b[0m\u001b[0;34m\u001b[0m\u001b[0m\n\u001b[1;32m      5\u001b[0m         \u001b[0mvalues_\u001b[0m \u001b[0;34m=\u001b[0m \u001b[0mq_value\u001b[0m\u001b[0;34m[\u001b[0m\u001b[0mstate\u001b[0m\u001b[0;34m[\u001b[0m\u001b[0;36m0\u001b[0m\u001b[0;34m]\u001b[0m\u001b[0;34m,\u001b[0m \u001b[0mstate\u001b[0m\u001b[0;34m[\u001b[0m\u001b[0;36m1\u001b[0m\u001b[0;34m]\u001b[0m\u001b[0;34m,\u001b[0m \u001b[0;34m:\u001b[0m\u001b[0;34m]\u001b[0m\u001b[0;34m\u001b[0m\u001b[0;34m\u001b[0m\u001b[0m\n",
      "\u001b[0;32mmtrand.pyx\u001b[0m in \u001b[0;36mnumpy.random.mtrand.RandomState.binomial\u001b[0;34m()\u001b[0m\n",
      "\u001b[0;32m_common.pyx\u001b[0m in \u001b[0;36mnumpy.random._common.check_constraint\u001b[0;34m()\u001b[0m\n",
      "\u001b[0;31mValueError\u001b[0m: p < 0, p > 1 or p is NaN"
     ]
    }
   ],
   "source": [
    "q_q_learning = np.zeros((state_size, state_size, 13))\n",
    "steps = 1000\n",
    "GAMMA = 1\n",
    "EPSILON = 0.1\n",
    "episode_num = 1000\n",
    "EPSILON_decay_rate = EPSILON/episode_num\n",
    "for i in tqdm(range(1000)):\n",
    "    rewards, q_q_learning = q_learning(q_q_learning, steps) \n",
    "    EPSILON = updateEpsilon(EPSILON-EPSILON_decay_rate)\n",
    "            \n",
    "EPSILON = 0\n",
    "for i in range(10):\n",
    "    rewards, q_q_learning = q_learning(q_q_learning, steps) \n",
    "    print(rewards)\n",
    "\n"
   ]
  },
  {
   "cell_type": "code",
   "execution_count": 42,
   "id": "94a12001",
   "metadata": {},
   "outputs": [
    {
     "ename": "ValueError",
     "evalue": "p < 0, p > 1 or p is NaN",
     "output_type": "error",
     "traceback": [
      "\u001b[0;31m---------------------------------------------------------------------------\u001b[0m",
      "\u001b[0;31mValueError\u001b[0m                                Traceback (most recent call last)",
      "\u001b[0;32m/var/folders/hd/7mhwbm312jd2fp_tb35yjgvc0000gn/T/ipykernel_2605/2767891532.py\u001b[0m in \u001b[0;36m<module>\u001b[0;34m\u001b[0m\n\u001b[0;32m----> 1\u001b[0;31m \u001b[0mprint\u001b[0m\u001b[0;34m(\u001b[0m\u001b[0mnp\u001b[0m\u001b[0;34m.\u001b[0m\u001b[0mrandom\u001b[0m\u001b[0;34m.\u001b[0m\u001b[0mbinomial\u001b[0m\u001b[0;34m(\u001b[0m\u001b[0;36m1\u001b[0m\u001b[0;34m,\u001b[0m \u001b[0;34m-\u001b[0m\u001b[0;36m1.8281545981907454e-15\u001b[0m\u001b[0;34m)\u001b[0m\u001b[0;34m)\u001b[0m\u001b[0;34m\u001b[0m\u001b[0;34m\u001b[0m\u001b[0m\n\u001b[0m",
      "\u001b[0;32mmtrand.pyx\u001b[0m in \u001b[0;36mnumpy.random.mtrand.RandomState.binomial\u001b[0;34m()\u001b[0m\n",
      "\u001b[0;32m_common.pyx\u001b[0m in \u001b[0;36mnumpy.random._common.check_constraint\u001b[0;34m()\u001b[0m\n",
      "\u001b[0;31mValueError\u001b[0m: p < 0, p > 1 or p is NaN"
     ]
    }
   ],
   "source": []
  },
  {
   "cell_type": "code",
   "execution_count": null,
   "id": "aac68cb2",
   "metadata": {},
   "outputs": [],
   "source": []
  }
 ],
 "metadata": {
  "kernelspec": {
   "display_name": "Python 3 (ipykernel)",
   "language": "python",
   "name": "python3"
  },
  "language_info": {
   "codemirror_mode": {
    "name": "ipython",
    "version": 3
   },
   "file_extension": ".py",
   "mimetype": "text/x-python",
   "name": "python",
   "nbconvert_exporter": "python",
   "pygments_lexer": "ipython3",
   "version": "3.9.13"
  }
 },
 "nbformat": 4,
 "nbformat_minor": 5
}
