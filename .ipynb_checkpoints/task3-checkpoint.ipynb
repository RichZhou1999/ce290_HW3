{
 "cells": [
  {
   "cell_type": "code",
   "execution_count": 2,
   "id": "e8460a8a",
   "metadata": {},
   "outputs": [],
   "source": [
    "import numpy as np"
   ]
  },
  {
   "cell_type": "code",
   "execution_count": 3,
   "id": "7d776b40",
   "metadata": {},
   "outputs": [],
   "source": [
    "P = np.array([[0.4,0.6,0],[0.2,0,0.8],[0,0,1]])"
   ]
  },
  {
   "cell_type": "code",
   "execution_count": 4,
   "id": "bd281b2b",
   "metadata": {},
   "outputs": [],
   "source": [
    "R = np.array([[-2],[-2],[0]])"
   ]
  },
  {
   "cell_type": "code",
   "execution_count": 5,
   "id": "ce4fddf9",
   "metadata": {},
   "outputs": [],
   "source": [
    "gamma = 1"
   ]
  },
  {
   "cell_type": "code",
   "execution_count": 17,
   "id": "057fa153",
   "metadata": {},
   "outputs": [
    {
     "name": "stdout",
     "output_type": "stream",
     "text": [
      "0\n"
     ]
    }
   ],
   "source": [
    "prob_list = P[0]\n",
    "\n",
    "choice = np.random.choice(len(prob_list), p=prob_list)\n",
    "print(choice)"
   ]
  },
  {
   "cell_type": "code",
   "execution_count": 36,
   "id": "5fe738b5",
   "metadata": {},
   "outputs": [],
   "source": [
    "def simulation(P,R,initial_state,episode_num):\n",
    "    reward_history_list = []\n",
    "    state_history_list = []\n",
    "    \n",
    "    for i in range(episode_num):\n",
    "        reward_history = []\n",
    "        state_history = []\n",
    "        reward_history.append(float(R[initial_state]))\n",
    "        state_history.append(initial_state)\n",
    "        \n",
    "        state = initial_state\n",
    "        while state != 2:\n",
    "            prob_list = P[state]\n",
    "            choice = np.random.choice(len(prob_list), p=prob_list)\n",
    "            state = choice\n",
    "            state_history.append(state)\n",
    "            reward_history.append(float(R[state]))\n",
    "        reward_history_list.append(reward_history)\n",
    "        state_history_list.append(state_history)\n",
    "    \n",
    "    return state_history_list,reward_history_list\n",
    "\n",
    "    "
   ]
  },
  {
   "cell_type": "code",
   "execution_count": 37,
   "id": "f665594d",
   "metadata": {},
   "outputs": [],
   "source": [
    "state_history_list,reward_history_list = simulation(P,R,0,10)"
   ]
  },
  {
   "cell_type": "code",
   "execution_count": 38,
   "id": "538adc3d",
   "metadata": {},
   "outputs": [
    {
     "data": {
      "text/plain": [
       "[[0, 0, 1, 2],\n",
       " [0, 1, 2],\n",
       " [0, 0, 0, 1, 2],\n",
       " [0, 1, 2],\n",
       " [0, 0, 0, 0, 0, 0, 1, 2],\n",
       " [0, 1, 2],\n",
       " [0, 1, 0, 1, 2],\n",
       " [0, 0, 1, 2],\n",
       " [0, 1, 2],\n",
       " [0, 1, 2]]"
      ]
     },
     "execution_count": 38,
     "metadata": {},
     "output_type": "execute_result"
    }
   ],
   "source": [
    "state_history_list"
   ]
  },
  {
   "cell_type": "code",
   "execution_count": 39,
   "id": "d34b3583",
   "metadata": {},
   "outputs": [
    {
     "data": {
      "text/plain": [
       "[[-2.0, -2.0, -2.0, 0.0],\n",
       " [-2.0, -2.0, 0.0],\n",
       " [-2.0, -2.0, -2.0, -2.0, 0.0],\n",
       " [-2.0, -2.0, 0.0],\n",
       " [-2.0, -2.0, -2.0, -2.0, -2.0, -2.0, -2.0, 0.0],\n",
       " [-2.0, -2.0, 0.0],\n",
       " [-2.0, -2.0, -2.0, -2.0, 0.0],\n",
       " [-2.0, -2.0, -2.0, 0.0],\n",
       " [-2.0, -2.0, 0.0],\n",
       " [-2.0, -2.0, 0.0]]"
      ]
     },
     "execution_count": 39,
     "metadata": {},
     "output_type": "execute_result"
    }
   ],
   "source": [
    "reward_history_list"
   ]
  },
  {
   "cell_type": "code",
   "execution_count": null,
   "id": "fe06d060",
   "metadata": {},
   "outputs": [],
   "source": [
    "def get_sum_list(arr):\n",
    "    result = [0]*len(arr)\n",
    "    for i in range(len(arr)):\n",
    "        temp += arr[i]\n",
    "        result[i] = temp\n",
    "    return result"
   ]
  },
  {
   "cell_type": "markdown",
   "id": "01587248",
   "metadata": {},
   "source": [
    "# first visit"
   ]
  },
  {
   "cell_type": "code",
   "execution_count": null,
   "id": "46770015",
   "metadata": {},
   "outputs": [],
   "source": [
    "reward_history_list_sum = "
   ]
  },
  {
   "cell_type": "code",
   "execution_count": null,
   "id": "b45386e1",
   "metadata": {},
   "outputs": [],
   "source": [
    "episode_num = len(state_history_list)\n",
    "G_value = [0,0,0]\n",
    "for i in range(episode_num):\n",
    "    visited = [False,False, False]\n",
    "    "
   ]
  }
 ],
 "metadata": {
  "kernelspec": {
   "display_name": "Python 3 (ipykernel)",
   "language": "python",
   "name": "python3"
  },
  "language_info": {
   "codemirror_mode": {
    "name": "ipython",
    "version": 3
   },
   "file_extension": ".py",
   "mimetype": "text/x-python",
   "name": "python",
   "nbconvert_exporter": "python",
   "pygments_lexer": "ipython3",
   "version": "3.10.9"
  }
 },
 "nbformat": 4,
 "nbformat_minor": 5
}
