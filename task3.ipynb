{
 "cells": [
  {
   "cell_type": "code",
   "execution_count": 1,
   "id": "fcea63be",
   "metadata": {},
   "outputs": [],
   "source": [
    "import numpy as np"
   ]
  },
  {
   "cell_type": "code",
   "execution_count": 2,
   "id": "e4e7914e",
   "metadata": {},
   "outputs": [],
   "source": [
    "P = np.array([[0.4,0.6,0],[0.2,0,0.8],[0,0,1]])"
   ]
  },
  {
   "cell_type": "code",
   "execution_count": 3,
   "id": "235f7a61",
   "metadata": {},
   "outputs": [],
   "source": [
    "R = np.array([[-2],[-2],[0]])"
   ]
  },
  {
   "cell_type": "code",
   "execution_count": 4,
   "id": "ac1b5ae9",
   "metadata": {},
   "outputs": [],
   "source": [
    "gamma = 1"
   ]
  },
  {
   "cell_type": "code",
   "execution_count": 5,
   "id": "912f3f02",
   "metadata": {},
   "outputs": [
    {
     "name": "stdout",
     "output_type": "stream",
     "text": [
      "1\n"
     ]
    }
   ],
   "source": [
    "prob_list = P[0]\n",
    "\n",
    "choice = np.random.choice(len(prob_list), p=prob_list)\n",
    "print(choice)"
   ]
  },
  {
   "cell_type": "code",
   "execution_count": 6,
   "id": "b32ee100",
   "metadata": {},
   "outputs": [],
   "source": [
    "def simulation(P,R,initial_state,episode_num):\n",
    "    reward_history_list = []\n",
    "    state_history_list = []\n",
    "    \n",
    "    for i in range(episode_num):\n",
    "        reward_history = []\n",
    "        state_history = []\n",
    "        reward_history.append(float(R[initial_state]))\n",
    "        state_history.append(initial_state)\n",
    "        \n",
    "        state = initial_state\n",
    "        while state != 2:\n",
    "            prob_list = P[state]\n",
    "            choice = np.random.choice(len(prob_list), p=prob_list)\n",
    "            state = choice\n",
    "            state_history.append(state)\n",
    "            reward_history.append(float(R[state]))\n",
    "        reward_history_list.append(reward_history)\n",
    "        state_history_list.append(state_history)\n",
    "    \n",
    "    return state_history_list,reward_history_list\n",
    "\n",
    "    "
   ]
  },
  {
   "cell_type": "code",
   "execution_count": 12,
   "id": "ce0b553e",
   "metadata": {},
   "outputs": [],
   "source": [
    "state_history_list,reward_history_list = simulation(P,R,0,2)"
   ]
  },
  {
   "cell_type": "code",
   "execution_count": 13,
   "id": "d5de919e",
   "metadata": {},
   "outputs": [
    {
     "data": {
      "text/plain": [
       "[[0, 0, 1, 0, 1, 2], [0, 0, 1, 2]]"
      ]
     },
     "execution_count": 13,
     "metadata": {},
     "output_type": "execute_result"
    }
   ],
   "source": [
    "state_history_list"
   ]
  },
  {
   "cell_type": "code",
   "execution_count": 14,
   "id": "fc96f4dc",
   "metadata": {},
   "outputs": [
    {
     "data": {
      "text/plain": [
       "[[-2.0, -2.0, -2.0, -2.0, -2.0, 0.0], [-2.0, -2.0, -2.0, 0.0]]"
      ]
     },
     "execution_count": 14,
     "metadata": {},
     "output_type": "execute_result"
    }
   ],
   "source": [
    "reward_history_list"
   ]
  },
  {
   "cell_type": "code",
   "execution_count": 15,
   "id": "e5525b64",
   "metadata": {},
   "outputs": [],
   "source": [
    "state_history_list,reward_history_list = simulation(P,R,0,1000)"
   ]
  },
  {
   "cell_type": "code",
   "execution_count": 16,
   "id": "1c8f5a0a",
   "metadata": {},
   "outputs": [],
   "source": [
    "def get_sum_list(arr):\n",
    "    result = [0]*len(arr)\n",
    "    temp = 0\n",
    "    for i in range(len(arr)):\n",
    "        temp += arr[i]\n",
    "        result[i] = temp\n",
    "    return result"
   ]
  },
  {
   "cell_type": "markdown",
   "id": "f635fbf3",
   "metadata": {},
   "source": [
    "# first visit"
   ]
  },
  {
   "cell_type": "code",
   "execution_count": 17,
   "id": "0e9369db",
   "metadata": {},
   "outputs": [
    {
     "name": "stdout",
     "output_type": "stream",
     "text": [
      "[-2000.0, -5432.0, -6772.0]\n",
      "[1000, 1000, 1000]\n",
      "[-2.    -5.432 -6.772]\n"
     ]
    }
   ],
   "source": [
    "episode_num = len(state_history_list)\n",
    "G_value_sum = [0,0,0]\n",
    "occurance = [0,0,0]\n",
    "for i in range(episode_num):\n",
    "    visited = [False,False, False]\n",
    "    temp_reward_sum_list = get_sum_list(reward_history_list[i])\n",
    "    temp_state_list = state_history_list[i]\n",
    "    for j in range(len(temp_state_list)):\n",
    "        state = temp_state_list[j]\n",
    "        if visited[state]:\n",
    "            continue\n",
    "        visited[state] = True\n",
    "        G_value_sum[state] += temp_reward_sum_list[j]\n",
    "        occurance[state] += 1\n",
    "print(G_value_sum)\n",
    "print(occurance)\n",
    "G_value_list = np.array(G_value_sum)/np.array(occurance)\n",
    "print(G_value_list)"
   ]
  },
  {
   "cell_type": "markdown",
   "id": "086dd67e",
   "metadata": {},
   "source": [
    "# Every-visit Monte Carlo evaluation."
   ]
  },
  {
   "cell_type": "code",
   "execution_count": 18,
   "id": "91c228fa",
   "metadata": {},
   "outputs": [
    {
     "name": "stdout",
     "output_type": "stream",
     "text": [
      "[-9828.0, -8352.0, -6772.0]\n",
      "[2140, 1246, 1000]\n",
      "[-4.59252336 -6.70304976 -6.772     ]\n"
     ]
    }
   ],
   "source": [
    "episode_num = len(state_history_list)\n",
    "G_value_sum = [0,0,0]\n",
    "occurance = [0,0,0]\n",
    "for i in range(episode_num):\n",
    "    temp_reward_sum_list = get_sum_list(reward_history_list[i])\n",
    "    temp_state_list = state_history_list[i]\n",
    "    for j in range(len(temp_state_list)):\n",
    "        state = temp_state_list[j]\n",
    "        G_value_sum[state] += temp_reward_sum_list[j]\n",
    "        occurance[state] += 1\n",
    "print(G_value_sum)\n",
    "print(occurance)\n",
    "G_value_list = np.array(G_value_sum)/np.array(occurance)\n",
    "print(G_value_list)"
   ]
  },
  {
   "cell_type": "markdown",
   "id": "b26e37c7",
   "metadata": {},
   "source": [
    "## Bellman equation"
   ]
  },
  {
   "cell_type": "markdown",
   "id": "9821bc55",
   "metadata": {},
   "source": [
    "V(s) = ∑$\\pi$(a|s)(R(s,a) + γV(s'))\n"
   ]
  },
  {
   "cell_type": "code",
   "execution_count": 19,
   "id": "1edea197",
   "metadata": {},
   "outputs": [
    {
     "name": "stdout",
     "output_type": "stream",
     "text": [
      "[-6.66666667 -3.33333333]\n"
     ]
    }
   ],
   "source": [
    "print(np.linalg.inv(np.array([[0.6,-0.6],[-0.2,1]]))@(np.array([-2,-2])))"
   ]
  },
  {
   "cell_type": "code",
   "execution_count": null,
   "id": "e72b175d",
   "metadata": {},
   "outputs": [],
   "source": []
  }
 ],
 "metadata": {
  "kernelspec": {
   "display_name": "Python 3 (ipykernel)",
   "language": "python",
   "name": "python3"
  },
  "language_info": {
   "codemirror_mode": {
    "name": "ipython",
    "version": 3
   },
   "file_extension": ".py",
   "mimetype": "text/x-python",
   "name": "python",
   "nbconvert_exporter": "python",
   "pygments_lexer": "ipython3",
   "version": "3.10.9"
  }
 },
 "nbformat": 4,
 "nbformat_minor": 5
}
