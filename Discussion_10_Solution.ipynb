{
 "cells": [
  {
   "cell_type": "code",
   "execution_count": 3,
   "metadata": {
    "id": "UmBzIBO1Z8v7"
   },
   "outputs": [],
   "source": [
    "import numpy as np\n",
    "import matplotlib.pyplot as plt"
   ]
  },
  {
   "cell_type": "markdown",
   "metadata": {
    "id": "AWr9Ms2KNWWi"
   },
   "source": [
    "# Problem Setting"
   ]
  },
  {
   "cell_type": "markdown",
   "metadata": {
    "id": "6qNDZWyiC406"
   },
   "source": [
    "On a Stormy Day in Berkeley the extreme weather is putting the grid at risk. Each hour the weather has a 40% chance of putting the grid in a damaged state. While damaged, a repair crew will be dispatched which will repair the damage with a probability of 80% each hour, (and with 20% probability they will need to continue their work). While fully functioning, the grid generates \\$100,000 in profit. While inoperational, you must pay \\$1000 an hour to your repair crew.\n"
   ]
  },
  {
   "cell_type": "markdown",
   "metadata": {
    "id": "aSG6MtrRMd35"
   },
   "source": [
    "# Model the system as a Markov Reward Process\n",
    "\n",
    "Recall a markov reward is a tuple $(\\mathcal{S},\\mathcal{P},\\mathcal{R},\\gamma)$ where\n",
    "\n",
    "$\\mathcal{S}$ is a set of states\n",
    "\n",
    "$\\mathcal{P}$ is a state transition probability matrix\n",
    "\n",
    "$\\mathcal{R}$ is a reward function $\\mathcal{R}_s = \\mathbb{E}[\\mathcal{r}_{t+1}|S_t=s] $ \n",
    "\n",
    "$\\gamma$ is a discount function"
   ]
  },
  {
   "cell_type": "markdown",
   "metadata": {
    "id": "wuaD394FN7c3"
   },
   "source": [
    "How many states are there? What are they?"
   ]
  },
  {
   "cell_type": "markdown",
   "metadata": {
    "id": "gRDXgbbfNVlt"
   },
   "source": [
    "Write the transition probability matrix"
   ]
  },
  {
   "cell_type": "code",
   "execution_count": 4,
   "metadata": {
    "id": "BjKwE9QnMoCN"
   },
   "outputs": [],
   "source": [
    "P = np.array([[0.6,0.4],[0.4,0.6]])"
   ]
  },
  {
   "cell_type": "markdown",
   "metadata": {
    "id": "nIcKmQ_YNU6Z"
   },
   "source": [
    "Define the reward"
   ]
  },
  {
   "cell_type": "code",
   "execution_count": 5,
   "metadata": {
    "id": "hMYOXxRLNzzl"
   },
   "outputs": [],
   "source": [
    "R = np.array([[100],[-1]])"
   ]
  },
  {
   "cell_type": "markdown",
   "metadata": {
    "id": "Z5cLY38AObyF"
   },
   "source": [
    "Choose a discount factor"
   ]
  },
  {
   "cell_type": "code",
   "execution_count": 6,
   "metadata": {
    "id": "Y0Jlnu_BOcap"
   },
   "outputs": [],
   "source": [
    "gamma = 0.9"
   ]
  },
  {
   "cell_type": "markdown",
   "metadata": {
    "id": "8vd_64-YxNeP"
   },
   "source": [
    "#Simulate the system"
   ]
  },
  {
   "cell_type": "code",
   "execution_count": 7,
   "metadata": {
    "id": "HomNF1TQxP2A"
   },
   "outputs": [],
   "source": [
    "def SimMarkovRewardProcess(N,P,R,X0):\n",
    "  #Simulates the markov Reward process\n",
    "  #N =  Number of steps\n",
    "  #P = Transition Probability Matrix\n",
    "  #R = State Rewards\n",
    "  #X0 = initial state\n",
    "  Rout = [R[X0]] #Save Reward\n",
    "  Xout = [X0] #save State\n",
    "  X = X0 #Current State\n",
    "  rng = np.random.default_rng(seed=None)\n",
    "  for i in range(N):\n",
    "    X = rng.choice(np.arange(0,P.shape[0],1),p = P[X,:])\n",
    "    Rout.append(R[X])\n",
    "    Xout.append(X)\n",
    "    \n",
    "  return np.array(Xout), np.array(Rout)"
   ]
  },
  {
   "cell_type": "markdown",
   "metadata": {
    "id": "1KHlaG30yY8W"
   },
   "source": [
    "Use the above function to calculate the total reward for a 24 hour period (start in the undamaged state)"
   ]
  },
  {
   "cell_type": "code",
   "execution_count": 8,
   "metadata": {
    "colab": {
     "base_uri": "https://localhost:8080/"
    },
    "id": "GUaT3dsXxRx7",
    "outputId": "0f8631df-81ad-4079-bfdc-7c8c20e5580b"
   },
   "outputs": [
    {
     "name": "stdout",
     "output_type": "stream",
     "text": [
      "[1390]\n"
     ]
    }
   ],
   "source": [
    "Xt,Rt = SimMarkovRewardProcess(23,P,R,0)\n",
    "Totalreward = sum(Rt)\n",
    "print(Totalreward)"
   ]
  },
  {
   "cell_type": "markdown",
   "metadata": {
    "id": "EEaz3ekMMoQQ"
   },
   "source": [
    "#Compute the value function\n",
    "Calculate the value function by solving the discounted bellman equation"
   ]
  },
  {
   "cell_type": "code",
   "execution_count": 9,
   "metadata": {
    "colab": {
     "base_uri": "https://localhost:8080/"
    },
    "id": "ZELRsYN9M-WD",
    "outputId": "15214e7b-fd40-4572-897f-e0f0102e2d72"
   },
   "outputs": [
    {
     "name": "stdout",
     "output_type": "stream",
     "text": [
      "[[556.58536585]\n",
      " [433.41463415]]\n"
     ]
    }
   ],
   "source": [
    "v = np.linalg.inv(np.eye(len(R)) - gamma*P) @ R\n",
    "print(v)"
   ]
  },
  {
   "cell_type": "markdown",
   "metadata": {
    "id": "qyolfDasM9F_"
   },
   "source": [
    "How does the value function change if we make the twice as resilient to failure?"
   ]
  },
  {
   "cell_type": "code",
   "execution_count": 10,
   "metadata": {
    "colab": {
     "base_uri": "https://localhost:8080/"
    },
    "id": "fCqSuXQfNFGI",
    "outputId": "d77ff96b-033d-458a-d734-c6a44b93c40e"
   },
   "outputs": [
    {
     "name": "stdout",
     "output_type": "stream",
     "text": [
      "[[715.9375]\n",
      " [558.125 ]]\n"
     ]
    }
   ],
   "source": [
    "P1 = np.array([[0.8,0.2],[0.4,0.6]])\n",
    "v = np.linalg.inv(np.eye(len(R)) - gamma*P1) @ R\n",
    "print(v)"
   ]
  },
  {
   "cell_type": "markdown",
   "metadata": {
    "id": "1EDWcpNjNOGK"
   },
   "source": [
    "How about if we make it twice as easy to repair?"
   ]
  },
  {
   "cell_type": "code",
   "execution_count": 11,
   "metadata": {
    "colab": {
     "base_uri": "https://localhost:8080/"
    },
    "id": "2vqGdPtLjSf6",
    "outputId": "8662d4d7-99c7-4068-ea69-30d336c5b79d"
   },
   "outputs": [
    {
     "name": "stdout",
     "output_type": "stream",
     "text": [
      "[[666.42201835]\n",
      " [573.76146789]]\n"
     ]
    }
   ],
   "source": [
    "P2 = np.array([[0.6,0.4],[0.7,0.3]])\n",
    "v = np.linalg.inv(np.eye(len(R)) - gamma*P2) @ R\n",
    "print(v)"
   ]
  },
  {
   "cell_type": "markdown",
   "metadata": {
    "id": "euLetBNYki2z"
   },
   "source": [
    "What  if your repair crew costs twice as much?\n"
   ]
  },
  {
   "cell_type": "code",
   "execution_count": 12,
   "metadata": {
    "colab": {
     "base_uri": "https://localhost:8080/"
    },
    "id": "y5JTI9V3nLXQ",
    "outputId": "a306d5c9-21fd-49b8-ec23-a23a82ff888d"
   },
   "outputs": [
    {
     "name": "stdout",
     "output_type": "stream",
     "text": [
      "[[552.19512195]\n",
      " [427.80487805]]\n"
     ]
    }
   ],
   "source": [
    "R1 = np.array([[100],[-2]])\n",
    "v = np.linalg.inv(np.eye(len(R)) - gamma*P) @ R1\n",
    "print(v)"
   ]
  },
  {
   "cell_type": "markdown",
   "metadata": {
    "id": "RusN_n03y-lc"
   },
   "source": [
    "#Case Study\n",
    "Say you are interested in making your grid more resilient, Make a plot of the probability of failure vs the reward generated over the course of a 48 hour storm"
   ]
  },
  {
   "cell_type": "code",
   "execution_count": 13,
   "metadata": {
    "id": "snmJqjuXy90y"
   },
   "outputs": [],
   "source": [
    "Rewards = []\n",
    "Pfailure = np.linspace(0,1,30)\n",
    "Pf = np.array([[0.6,0.4],[0.4,0.6]])\n",
    "for p in Pfailure:\n",
    "  Pf[0,0] = 1-p\n",
    "  Pf[0,1] = p\n",
    "  Xt,Rt = SimMarkovRewardProcess(47,Pf,R,0)\n",
    "  Rewards.append(sum(Rt))"
   ]
  },
  {
   "cell_type": "code",
   "execution_count": 31,
   "metadata": {
    "colab": {
     "base_uri": "https://localhost:8080/",
     "height": 297
    },
    "id": "JZ28xzEXzuOE",
    "outputId": "21cafbf7-7114-43bb-ebbc-3590a9054dd4"
   },
   "outputs": [
    {
     "data": {
      "text/plain": [
       "Text(0, 0.5, 'Reward')"
      ]
     },
     "execution_count": 31,
     "metadata": {},
     "output_type": "execute_result"
    },
    {
     "data": {
      "image/png": "[encoded data removed]",
      "text/plain": [
       "<Figure size 432x288 with 1 Axes>"
      ]
     },
     "metadata": {
      "needs_background": "light"
     },
     "output_type": "display_data"
    }
   ],
   "source": [
    "plt.plot(Pfailure,Rewards)\n",
    "plt.xlabel(\"Probability of failure\")\n",
    "plt.ylabel(\"Reward\")"
   ]
  },
  {
   "cell_type": "markdown",
   "metadata": {
    "id": "nrylJbRE_7CF"
   },
   "source": [
    "Your result may be a bit noisy. Why is that and how might you try to make it less noisy?"
   ]
  },
  {
   "cell_type": "code",
   "execution_count": 32,
   "metadata": {
    "colab": {
     "base_uri": "https://localhost:8080/",
     "height": 297
    },
    "id": "WF_xoA2D_7h1",
    "outputId": "a6f3f4bd-325f-4a02-bfc7-e299c8bdf638"
   },
   "outputs": [
    {
     "data": {
      "text/plain": [
       "Text(0, 0.5, 'Reward')"
      ]
     },
     "execution_count": 32,
     "metadata": {},
     "output_type": "execute_result"
    },
    {
     "data": {
      "image/png": "[encoded data removed]",
      "text/plain": [
       "<Figure size 432x288 with 1 Axes>"
      ]
     },
     "metadata": {
      "needs_background": "light"
     },
     "output_type": "display_data"
    }
   ],
   "source": [
    "Rewards = []\n",
    "Nsim = 200\n",
    "Pfailure = np.linspace(0,1,30)\n",
    "Pf = np.array([[0.6,0.4],[0.4,0.6]])\n",
    "for p in Pfailure:\n",
    "  rew = []\n",
    "  for h in range(Nsim):\n",
    "    Pf[0,0] = 1-p\n",
    "    Pf[0,1] = p\n",
    "    Xt,Rt = SimMarkovRewardProcess(47,Pf,R,0)\n",
    "    rew.append(sum(Rt))\n",
    "  Rewards.append(np.mean(np.array(rew)))\n",
    "\n",
    "plt.plot(Pfailure,Rewards)\n",
    "plt.xlabel(\"Probability of failure\")\n",
    "plt.ylabel(\"Reward\")"
   ]
  },
  {
   "cell_type": "markdown",
   "metadata": {
    "id": "iBJFyKFjhs4p"
   },
   "source": [
    "You can also plot the value function"
   ]
  },
  {
   "cell_type": "code",
   "execution_count": 36,
   "metadata": {
    "colab": {
     "base_uri": "https://localhost:8080/",
     "height": 297
    },
    "id": "gjesw-qyhwpB",
    "outputId": "1669d28a-7cb9-4e62-92b6-209fda676ba2"
   },
   "outputs": [
    {
     "data": {
      "text/plain": [
       "Text(0, 0.5, 'Value Function')"
      ]
     },
     "execution_count": 36,
     "metadata": {},
     "output_type": "execute_result"
    },
    {
     "data": {
      "image/png": "[encoded data removed]",
      "text/plain": [
       "<Figure size 432x288 with 1 Axes>"
      ]
     },
     "metadata": {
      "needs_background": "light"
     },
     "output_type": "display_data"
    }
   ],
   "source": [
    "Vs = []\n",
    "Nsim = 200\n",
    "Pfailure = np.linspace(0,1,30)\n",
    "Pf = np.array([[0.6,0.4],[0.4,0.6]])\n",
    "for p in Pfailure:\n",
    "  Pf[0,0] = 1-p\n",
    "  Pf[0,1] = p\n",
    "  vi = np.linalg.inv(np.eye(len(R)) - gamma*Pf) @ R\n",
    "  Vs.append(vi)\n",
    "\n",
    "\n",
    "Vplot = np.array(Vs)\n",
    "plt.plot(Pfailure,Vplot[:,0],label='state 1')\n",
    "plt.plot(Pfailure,Vplot[:,1],label='state 2')\n",
    "plt.legend()\n",
    "plt.xlabel(\"Probability of failure\")\n",
    "plt.ylabel(\"Value Function\")"
   ]
  },
  {
   "cell_type": "markdown",
   "metadata": {
    "id": "vEgSLuaA8i1d"
   },
   "source": [
    "#plot discount factor plot"
   ]
  },
  {
   "cell_type": "code",
   "execution_count": null,
   "metadata": {
    "id": "LH4_KcKm8iUj"
   },
   "outputs": [],
   "source": [
    "gams = np.linspace(0.9,1,5)\n",
    "kplot = np.arange(1,100,1)\n",
    "for gam in gams:\n",
    "  plt.plot(kplot,np.power(gam,kplot),label = gam)\n",
    "plt.legend()\n",
    "plt.xlabel(\"time step\")\n",
    "plt.ylabel(\"gamma^k\")"
   ]
  }
 ],
 "metadata": {
  "colab": {
   "provenance": []
  },
  "kernelspec": {
   "display_name": "Python 3 (ipykernel)",
   "language": "python",
   "name": "python3"
  },
  "language_info": {
   "codemirror_mode": {
    "name": "ipython",
    "version": 3
   },
   "file_extension": ".py",
   "mimetype": "text/x-python",
   "name": "python",
   "nbconvert_exporter": "python",
   "pygments_lexer": "ipython3",
   "version": "3.10.9"
  }
 },
 "nbformat": 4,
 "nbformat_minor": 1
}
