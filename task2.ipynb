{
 "cells": [
  {
   "cell_type": "markdown",
   "id": "27e09efb",
   "metadata": {},
   "source": [
    "States:\n",
    "There are 21 possible states for each docking station (0 to 20 scooters), resulting in a total of 441 possible states.\n",
    "states can be represented as S = (s1,s2) with s representing the number of scooters at one parking lot. "
   ]
  },
  {
   "cell_type": "markdown",
   "id": "6ce118b1",
   "metadata": {},
   "source": [
    "Actions:\n",
    "At each time step, the scooter sharing company can choose to move up to 6 scooters from one docking station to another, or take no action. There are 13 different actions"
   ]
  },
  {
   "cell_type": "markdown",
   "id": "d7fc9dfe",
   "metadata": {},
   "source": [
    "Reward = 4*min(s1,D1) + 4 * min(S2, D2) - abs(a)"
   ]
  },
  {
   "cell_type": "code",
   "execution_count": 1,
   "id": "0e3725d8",
   "metadata": {},
   "outputs": [],
   "source": [
    "from tqdm import tqdm\n",
    "import matplotlib.pyplot as plt\n",
    "import numpy as np"
   ]
  },
  {
   "cell_type": "code",
   "execution_count": 2,
   "id": "38fe2998",
   "metadata": {},
   "outputs": [],
   "source": [
    "state_size = 21"
   ]
  },
  {
   "cell_type": "code",
   "execution_count": 3,
   "id": "faa24ec9",
   "metadata": {},
   "outputs": [],
   "source": [
    "actions = [-6, -5, -4, -3, -2, -1, 0 , 1,2,3,4,5,6]\n",
    "action_index = [i for i in range(len(actions))]"
   ]
  },
  {
   "cell_type": "code",
   "execution_count": 4,
   "id": "363c868a",
   "metadata": {},
   "outputs": [],
   "source": [
    "def generate_poisson_distribution(mean):\n",
    "    return np.random.poisson(mean) "
   ]
  },
  {
   "cell_type": "code",
   "execution_count": 5,
   "id": "8ee9548a",
   "metadata": {},
   "outputs": [],
   "source": [
    "def choose_action(state, q_value):\n",
    "    if np.random.binomial(1, EPSILON) == 1:\n",
    "        return np.random.choice(action_index)\n",
    "    else:\n",
    "        values_ = q_value[state[0], state[1], :]\n",
    "        return np.random.choice([action_ for action_, value_ in enumerate(values_) if value_ == np.max(values_)])"
   ]
  },
  {
   "cell_type": "code",
   "execution_count": 6,
   "id": "1616739a",
   "metadata": {},
   "outputs": [],
   "source": [
    "def step(state, action_index):\n",
    "    action = actions[action_index]\n",
    "#     print(action)\n",
    "    return_station_1 = generate_poisson_distribution(4)\n",
    "    return_station_2 = generate_poisson_distribution(3)\n",
    "    \n",
    "    borrow_station_1 = generate_poisson_distribution(4)\n",
    "    borrow_station_2 = generate_poisson_distribution(5)\n",
    "    \n",
    "#     return_statation_1 = max(return_station_1,poisson_threshold)\n",
    "    \n",
    "#     return_statation_2 = max(return_station_2,poisson_threshold)\n",
    "    \n",
    "#     borrow_station_1 = max(borrow_station_1,poisson_threshold)\n",
    "#     borrow_station_2 = max(borrow_station_2,poisson_threshold)\n",
    "\n",
    "    new_state = [0,0]\n",
    "    reward = 0\n",
    "    reward1 = 0\n",
    "    reward2 = 0\n",
    "    \n",
    "    if action < 0:\n",
    "        action = min(state[0],abs(action)) * -1\n",
    "    if action >0:\n",
    "        action = min(state[1], abs(action))\n",
    "    \n",
    "    available_1 = state[0] + return_station_1 + action\n",
    "    available_2 = state[1] + return_station_2 - action\n",
    "    if available_1 > 20:\n",
    "        available_1 = 20\n",
    "    if available_2 > 20:\n",
    "        available_2 = 20\n",
    "    if borrow_station_1 > available_1:\n",
    "        reward1 += available_1 * 4\n",
    "        available_1 = 0\n",
    "    else:\n",
    "        reward1 += borrow_station_1 * 4\n",
    "        available_1 -= borrow_station_1\n",
    "    \n",
    "    if borrow_station_2 > available_2:\n",
    "        reward2 += available_2 * 4\n",
    "        available_2 = 0\n",
    "    else:\n",
    "        reward2 += borrow_station_2 * 4\n",
    "        available_2 -= borrow_station_2\n",
    "    \n",
    "    reward -= abs(action)\n",
    "    \n",
    "    reward = reward + reward1 + reward2\n",
    "    \n",
    "    new_state = [available_1, available_2]\n",
    "    \n",
    "    return new_state, reward\n",
    "    "
   ]
  },
  {
   "cell_type": "code",
   "execution_count": 7,
   "id": "c4997999",
   "metadata": {},
   "outputs": [],
   "source": [
    "ALPHA = 0.01"
   ]
  },
  {
   "cell_type": "code",
   "execution_count": 8,
   "id": "6e0e8b24",
   "metadata": {},
   "outputs": [],
   "source": [
    "def updateEpsilon(epsilon):\n",
    "    epsilon = epsilon #play with this\n",
    "    return epsilon"
   ]
  },
  {
   "cell_type": "code",
   "execution_count": 9,
   "id": "09f52eaf",
   "metadata": {},
   "outputs": [],
   "source": [
    "def q_learning(q_value, steps, initial_state = [0,0],step_size=ALPHA):\n",
    "    state = initial_state\n",
    "    rewards = 0.0\n",
    "    for i in range(steps):\n",
    "        action = choose_action(state, q_value)\n",
    "        next_state, reward = step(state, action)\n",
    "        rewards += reward\n",
    "        # Q-Learning update\n",
    "        q_value[state[0], state[1], action] = q_value[state[0], state[1], action] + \\\n",
    "         step_size*(reward + GAMMA*np.max(q_value[next_state[0],next_state[1],:]) - \\\n",
    "                    q_value[state[0], state[1], action])#YOUR CODE HERE\n",
    "        state = next_state\n",
    "    return rewards, q_value"
   ]
  },
  {
   "cell_type": "code",
   "execution_count": 10,
   "id": "65cb6945",
   "metadata": {},
   "outputs": [],
   "source": [
    "def baseline(steps,initial_state=[0,0]):\n",
    "    state = initial_state\n",
    "    rewards = 0.0\n",
    "    for i in range(steps):\n",
    "        action = 6\n",
    "        next_state, reward = step(state, action)\n",
    "        rewards += reward\n",
    "        state = next_state\n",
    "    return rewards"
   ]
  },
  {
   "cell_type": "markdown",
   "id": "f90d8611",
   "metadata": {},
   "source": [
    "# Baseline"
   ]
  },
  {
   "cell_type": "code",
   "execution_count": 11,
   "id": "17a14f29",
   "metadata": {},
   "outputs": [
    {
     "name": "stdout",
     "output_type": "stream",
     "text": [
      "80732.0\n",
      "80292.0\n",
      "81228.0\n",
      "81392.0\n",
      "81816.0\n",
      "81952.0\n",
      "82012.0\n",
      "82520.0\n",
      "81612.0\n",
      "81760.0\n"
     ]
    }
   ],
   "source": [
    "steps = 3000\n",
    "for i in range(10):\n",
    "    rewards = baseline(steps) \n",
    "    print(rewards)"
   ]
  },
  {
   "cell_type": "markdown",
   "id": "e885e282",
   "metadata": {},
   "source": [
    "# q-learning"
   ]
  },
  {
   "cell_type": "code",
   "execution_count": 12,
   "id": "af8e2867",
   "metadata": {},
   "outputs": [
    {
     "name": "stderr",
     "output_type": "stream",
     "text": [
      "100%|█████████████████████████████████████| 10000/10000 [20:54<00:00,  7.97it/s]\n"
     ]
    },
    {
     "name": "stdout",
     "output_type": "stream",
     "text": [
      "81760.0\n",
      "81567.0\n",
      "81336.0\n",
      "82137.0\n",
      "81668.0\n",
      "80263.0\n",
      "82213.0\n",
      "81721.0\n",
      "81375.0\n",
      "81501.0\n"
     ]
    }
   ],
   "source": [
    "q_q_learning = np.zeros((state_size, state_size, 13))\n",
    "steps = 3000\n",
    "GAMMA = 0.95\n",
    "EPSILON = 0.25\n",
    "episode_num = 10000\n",
    "EPSILON_decay_rate = EPSILON/episode_num\n",
    "reward_list = []\n",
    "for i in tqdm(range(episode_num)):\n",
    "    rewards, q_q_learning = q_learning(q_q_learning, steps) \n",
    "    EPSILON = updateEpsilon(EPSILON-EPSILON_decay_rate)\n",
    "    reward_list.append(rewards)\n",
    "            \n",
    "EPSILON = 0\n",
    "for i in range(10):\n",
    "    rewards, q_q_learning = q_learning(q_q_learning, steps) \n",
    "    print(rewards)\n",
    "\n"
   ]
  },
  {
   "cell_type": "code",
   "execution_count": 13,
   "id": "aac68cb2",
   "metadata": {},
   "outputs": [
    {
     "data": {
      "text/plain": [
       "Text(0.5, 1.0, '3000 steps')"
      ]
     },
     "execution_count": 13,
     "metadata": {},
     "output_type": "execute_result"
    },
    {
     "data": {
      "image/png": "[encoded data removed]",
      "text/plain": [
       "<Figure size 640x480 with 1 Axes>"
      ]
     },
     "metadata": {},
     "output_type": "display_data"
    }
   ],
   "source": [
    "x = [i for i in range(len(reward_list))]\n",
    "plt.plot(x,reward_list)\n",
    "plt.xlabel(\"episode\")\n",
    "plt.ylabel(\"total reward\")\n",
    "plt.title(\"3000 steps\")"
   ]
  },
  {
   "cell_type": "markdown",
   "id": "4faf4e44",
   "metadata": {},
   "source": [
    "The after the training using q learning. The total reward is very similar with the baseline case( do nothing). So the best policy should be do nothing. That is because moving scooters can cost money. While in the long term, station1 can balance the requests and return. Station2 always have less returns than requests, which can not be solve. No matter how the agent transfer the scooters. This situation can not be changed. So the best policy is this case is doing nothing. "
   ]
  },
  {
   "cell_type": "code",
   "execution_count": null,
   "id": "86ea4398",
   "metadata": {},
   "outputs": [],
   "source": []
  }
 ],
 "metadata": {
  "kernelspec": {
   "display_name": "Python 3 (ipykernel)",
   "language": "python",
   "name": "python3"
  },
  "language_info": {
   "codemirror_mode": {
    "name": "ipython",
    "version": 3
   },
   "file_extension": ".py",
   "mimetype": "text/x-python",
   "name": "python",
   "nbconvert_exporter": "python",
   "pygments_lexer": "ipython3",
   "version": "3.10.9"
  }
 },
 "nbformat": 4,
 "nbformat_minor": 5
}
